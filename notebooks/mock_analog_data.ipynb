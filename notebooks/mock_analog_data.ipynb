{
 "nbformat": 4,
 "nbformat_minor": 2,
 "metadata": {
  "language_info": {
   "name": "python",
   "codemirror_mode": {
    "name": "ipython",
    "version": 3
   },
   "version": "3.7.3-final"
  },
  "orig_nbformat": 2,
  "file_extension": ".py",
  "mimetype": "text/x-python",
  "name": "python",
  "npconvert_exporter": "python",
  "pygments_lexer": "ipython3",
  "version": 3,
  "kernelspec": {
   "name": "python37364bitcaanalysisconda0e7d26eec6ef4f979f92fdcb8b54eff4",
   "display_name": "Python 3.7.3 64-bit ('ca_analysis': conda)"
  }
 },
 "cells": [
  {
   "cell_type": "code",
   "execution_count": 28,
   "metadata": {},
   "outputs": [],
   "source": [
    "import pathlib\n",
    "\n",
    "import tifffile\n",
    "import numpy as np\n",
    "import pandas as pd\n",
    "import xarray as xr"
   ]
  },
  {
   "cell_type": "code",
   "execution_count": 2,
   "metadata": {},
   "outputs": [],
   "source": [
    "folder = pathlib.Path('/data/Amit_QNAP/Calcium_FXS/x25')\n",
    "existing = folder / 'FXS_Ca2' / 'FXS_650_FOV5_X25_mage2p5_Cage504_20180815_00001_analog.txt'\n",
    "assert existing.exists()"
   ]
  },
  {
   "cell_type": "code",
   "execution_count": 7,
   "metadata": {},
   "outputs": [],
   "source": [
    "data = pd.read_csv(existing, header=None, sep='\\t').iloc[:, :2]"
   ]
  },
  {
   "cell_type": "code",
   "execution_count": 25,
   "metadata": {},
   "outputs": [
    {
     "name": "stdout",
     "output_type": "stream",
     "text": "/data/Amit_QNAP/Calcium_FXS/x25/exp1/WT_595_X10_mag3_30Hz_20180627_00005.tif\n/data/Amit_QNAP/Calcium_FXS/x25/exp1/WT_293_X10_mag3_30Hz_20180627_00001.tif\n/data/Amit_QNAP/Calcium_FXS/x25/exp1/WT_595_X10_mag3_30Hz_20180627_00001.tif\n/data/Amit_QNAP/Calcium_FXS/x25/exp1/WT_596_X10_mag3_30Hz_20180627_00001.tif\n/data/Amit_QNAP/Calcium_FXS/x25/exp1/WT_293_X10_mag3_30Hz_20180627_00003.tif\n/data/Amit_QNAP/Calcium_FXS/x25/exp1/WT_293_X10_mag3_30Hz_20180627_00004.tif\n/data/Amit_QNAP/Calcium_FXS/x25/exp1/WT_595_X10_mag3_30Hz_20180627_00004.tif\n/data/Amit_QNAP/Calcium_FXS/x25/exp1/WT_293_X10_mag3_30Hz_20180627_00002.tif\n/data/Amit_QNAP/Calcium_FXS/x25/exp1/WT_596_X10_mag3_30Hz_20180627_00006.tif\n/data/Amit_QNAP/Calcium_FXS/x25/exp1/WT_596_X10_mag3_30Hz_20180627_00007.tif\n/data/Amit_QNAP/Calcium_FXS/x25/exp1/WT_596_X10_mag3_30Hz_20180627_00004.tif\n/data/Amit_QNAP/Calcium_FXS/x25/exp1/WT_596_X10_mag3_30Hz_20180627_00003.tif\n/data/Amit_QNAP/Calcium_FXS/x25/exp1/WT_595_X10_mag3_30Hz_20180627_00002.tif\n/data/Amit_QNAP/Calcium_FXS/x25/exp1/WT_596_X10_mag3_30Hz_20180627_00005.tif\n/data/Amit_QNAP/Calcium_FXS/x25/exp1/WT_595_X10_mag3_30Hz_20180627_00006.tif\n/data/Amit_QNAP/Calcium_FXS/x25/exp1/WT_595_X10_mag3_30Hz_20180627_00003.tif\n/data/Amit_QNAP/Calcium_FXS/x25/exp1/WT_596_X10_mag3_30Hz_20180627_00002.tif\n"
    }
   ],
   "source": [
    "curfold = folder / 'exp1'\n",
    "glob = '*.tif'\n",
    "for file in curfold.glob(glob):\n",
    "    print(file)\n",
    "    new_fname = f'{file.stem}_analog.txt'\n",
    "    new_fname = file.with_name(new_fname)\n",
    "    with tifffile.TiffFile(file) as f:\n",
    "        length = len(f.pages) // 2\n",
    "    zer = pd.DataFrame(np.zeros((length, 2)))\n",
    "    zer.to_csv(new_fname, header=False, index=False)\n",
    "    "
   ]
  },
  {
   "cell_type": "code",
   "execution_count": 22,
   "metadata": {},
   "outputs": [
    {
     "name": "stdout",
     "output_type": "stream",
     "text": "18000\n"
    }
   ],
   "source": [
    "len(data)\n",
    "tif = existing.with_name('FXS_648_FOV7_X25_mage2p5_Cage503_20180815_00001.tif')\n",
    "with tifffile.TiffFile(tif) as f:\n",
    "    print(len(f.pages))"
   ]
  },
  {
   "cell_type": "code",
   "execution_count": 29,
   "metadata": {},
   "outputs": [],
   "source": [
    "ff = next(curfold.glob('*.nc'))\n",
    "dd = xr.open_dataset(ff)"
   ]
  },
  {
   "cell_type": "code",
   "execution_count": 32,
   "metadata": {},
   "outputs": [
    {
     "data": {
      "text/html": "<pre>&lt;xarray.DataArray &#x27;dff&#x27; (neuron: 15, time: 5400)&gt;\narray([[-0.073516,  0.060846,  0.027327, ..., -0.044201,  0.050523, -0.060342],\n       [-0.016548,  0.047068, -0.008662, ..., -0.100016,  0.064538,  0.126076],\n       [ 0.090863,  0.087446, -0.0574  , ...,  0.156417, -0.003682, -0.095126],\n       ...,\n       [-0.076156, -0.080994, -0.001362, ..., -0.043036,  0.067811,  0.01688 ],\n       [ 0.093496,  0.183926,  0.073272, ...,  0.066265,  0.07347 , -0.02452 ],\n       [-0.161807, -0.067594, -0.152985, ..., -0.040529,  0.024019,  0.101459]])\nCoordinates:\n  * time       (time) float64 0.0 0.03329 0.06658 0.09987 ... 179.7 179.7 179.7\n    fname      object ...\n  * neuron     (neuron) int32 0 1 2 3 4 5 6 7 8 9 10 11 12 13 14\n    mouse_id   object &#x27;595&#x27;\n    condition  object ...\n    fov        int32 ...\n    day        int32 ...</pre>",
      "text/plain": "<xarray.DataArray 'dff' (neuron: 15, time: 5400)>\narray([[-0.073516,  0.060846,  0.027327, ..., -0.044201,  0.050523, -0.060342],\n       [-0.016548,  0.047068, -0.008662, ..., -0.100016,  0.064538,  0.126076],\n       [ 0.090863,  0.087446, -0.0574  , ...,  0.156417, -0.003682, -0.095126],\n       ...,\n       [-0.076156, -0.080994, -0.001362, ..., -0.043036,  0.067811,  0.01688 ],\n       [ 0.093496,  0.183926,  0.073272, ...,  0.066265,  0.07347 , -0.02452 ],\n       [-0.161807, -0.067594, -0.152985, ..., -0.040529,  0.024019,  0.101459]])\nCoordinates:\n  * time       (time) float64 0.0 0.03329 0.06658 0.09987 ... 179.7 179.7 179.7\n    fname      object ...\n  * neuron     (neuron) int32 0 1 2 3 4 5 6 7 8 9 10 11 12 13 14\n    mouse_id   object '595'\n    condition  object ...\n    fov        int32 ...\n    day        int32 ..."
     },
     "execution_count": 32,
     "metadata": {},
     "output_type": "execute_result"
    }
   ],
   "source": [
    "dd.dff"
   ]
  },
  {
   "cell_type": "code",
   "execution_count": null,
   "metadata": {},
   "outputs": [],
   "source": []
  }
 ]
}