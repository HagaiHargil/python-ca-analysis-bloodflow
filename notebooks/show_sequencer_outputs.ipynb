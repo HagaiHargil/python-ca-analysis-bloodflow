{
 "cells": [
  {
   "cell_type": "code",
   "execution_count": 29,
   "metadata": {},
   "outputs": [
    {
     "name": "stdout",
     "output_type": "stream",
     "text": [
      "The autoreload extension is already loaded. To reload it, use:\n",
      "  %reload_ext autoreload\n"
     ]
    }
   ],
   "source": [
    "%load_ext autoreload\n",
    "%autoreload 2\n",
    "import pathlib\n",
    "\n",
    "import numpy as np\n",
    "import pandas as pd\n",
    "import matplotlib.pyplot as plt\n",
    "import seaborn as sns\n",
    "\n",
    "from calcium_bflow_analysis.dff_analysis_and_plotting import plot_cells_and_traces\n",
    "from calcium_bflow_analysis.sequencer import process_incoming_seq_data\n"
   ]
  },
  {
   "cell_type": "code",
   "execution_count": 34,
   "metadata": {},
   "outputs": [],
   "source": [
    "folder = pathlib.Path('/data/Amit_QNAP/Calcium_FXS')\n",
    "output_folder = (folder / 'sequencer_output')\n",
    "fps = 58.21\n",
    "downsampling_factor = 4\n",
    "cell_radius = 8"
   ]
  },
  {
   "cell_type": "code",
   "execution_count": 35,
   "metadata": {},
   "outputs": [],
   "source": [
    "datadict = process_incoming_seq_data.create_data_dictionary(folder)\n",
    "example_fov_name = folder / 'x10' / 'FXS_609' / 'FXS_609_X10_FOV4_mag3_20181009_00004.tif'\n",
    "example_results_name = folder / 'x10' / 'FXS_609' / 'FXS_609_X10_FOV4_mag3_20181009_00004_results.npz'"
   ]
  },
  {
   "cell_type": "code",
   "execution_count": 36,
   "metadata": {},
   "outputs": [],
   "source": [
    "def plot_all_data_types(datadict, example_fov_name, example_results_name):\n",
    "    \"\"\"Plots and saves the data for the all data type, i.e. entries in the datadict\n",
    "    returned from `create_data_dictionary`.\n",
    "    The order of the figures:\n",
    "    \n",
    "    \n",
    "    |----|---|\n",
    "    |fov + traces                      |\n",
    "    |row of images | heatmap original|\n",
    "     | heatmap seq    | heatmap tsne 10| \n",
    "     | heatmap tsne 50|heatmap tsne 100 \n",
    "    ||                |    \n",
    "    \"\"\"\n",
    "    fig, ax = plt.subplots(4, 2, figsize=(24, 48))\n",
    "    plot_cells_and_traces.show_side_by_side([example_fov_name], [example_results_name], cell_radius=cell_radius, ax=ax[0])\n",
    "    plot_cells_and_traces.display_cell_excerpts_over_time(example_results_name, example_fov_name, cell_radius=cell_radius, number_of_channels=1, fps=fps, output_folder=output_folder)\n",
    "    plot_cells_and_traces.display_heatmap(datadict['original'].data, ax=ax[1, 1], epoch='Original Dataset', downsample_factor=downsampling_factor, fps=fps)\n",
    "    plot_cells_and_traces.display_heatmap(datadict['seq'].data, ax=ax[2, 0], epoch='Sequencer', downsample_factor=downsampling_factor, fps=fps)\n",
    "    plot_cells_and_traces.display_heatmap(datadict['tsne_10'].data, ax=ax[2, 1], epoch='TSNE (p=10)', downsample_factor=downsampling_factor, fps=fps)\n",
    "    plot_cells_and_traces.display_heatmap(datadict['tsne_50'].data, ax=ax[3, 0], epoch='TSNE (p=50)', downsample_factor=downsampling_factor, fps=fps)\n",
    "    plot_cells_and_traces.display_heatmap(datadict['tsne_100'].data, ax=ax[3, 1], epoch='TSNE (p=100)', downsample_factor=downsampling_factor, fps=fps)\n",
    "    return fig"
   ]
  },
  {
   "cell_type": "code",
   "execution_count": null,
   "metadata": {
    "scrolled": false
   },
   "outputs": [],
   "source": [
    "fig = plot_all_data_types(datadict, example_fov_name, example_results_name)"
   ]
  },
  {
   "cell_type": "code",
   "execution_count": null,
   "metadata": {},
   "outputs": [],
   "source": [
    "fig"
   ]
  },
  {
   "cell_type": "code",
   "execution_count": null,
   "metadata": {},
   "outputs": [],
   "source": [
    "fig.savefig(folder / 'sequencer_output' / 'trial.pdf', transparent=True, dpi=300)"
   ]
  },
  {
   "cell_type": "code",
   "execution_count": null,
   "metadata": {},
   "outputs": [],
   "source": []
  }
 ],
 "metadata": {
  "kernelspec": {
   "display_name": "Python 3.7.3 64-bit ('ca_analysis': conda)",
   "language": "python",
   "name": "python37364bitcaanalysisconda0e7d26eec6ef4f979f92fdcb8b54eff4"
  },
  "language_info": {
   "codemirror_mode": {
    "name": "ipython",
    "version": 3
   },
   "file_extension": ".py",
   "mimetype": "text/x-python",
   "name": "python",
   "nbconvert_exporter": "python",
   "pygments_lexer": "ipython3",
   "version": "3.7.3"
  }
 },
 "nbformat": 4,
 "nbformat_minor": 2
}
