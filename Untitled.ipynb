{
 "cells": [
  {
   "cell_type": "code",
   "execution_count": 1,
   "metadata": {},
   "outputs": [],
   "source": [
    "from roipoly import roipoly\n",
    "import numpy as np\n",
    "import pandas as pd\n",
    "import matplotlib.pyplot as plt\n",
    "import h5py\n",
    "%matplotlib notebook"
   ]
  },
  {
   "cell_type": "code",
   "execution_count": 7,
   "metadata": {},
   "outputs": [],
   "source": [
    "fname_dig = r'X:\\Hagai\\Multiscaler\\27-9-17\\For article\\Calcium\\vessel_neurons_analysis_stop1_pmt1_stop2_lines_unidir_power_48p5_gain_850_008.npz'\n",
    "fname_ana = r'X:\\Hagai\\Multiscaler\\27-9-17\\For article\\Calcium\\results_onACID_FOV1_fromSI.npz'\n",
    "\n",
    "dig = np.load(fname_dig)\n",
    "ana = np.load(fname_ana)"
   ]
  },
  {
   "cell_type": "code",
   "execution_count": 9,
   "metadata": {},
   "outputs": [
    {
     "data": {
      "text/plain": [
       "((30, 504),\n",
       " ['Ab',\n",
       "  'Cn',\n",
       "  'f',\n",
       "  'noisyC',\n",
       "  'Cf',\n",
       "  'dims',\n",
       "  'b',\n",
       "  'tottime',\n",
       "  'crd',\n",
       "  'shifts',\n",
       "  'metadata'])"
      ]
     },
     "execution_count": 9,
     "metadata": {},
     "output_type": "execute_result"
    }
   ],
   "source": [
    "dig['fluo_trace'].shape, ana.keys()"
   ]
  },
  {
   "cell_type": "code",
   "execution_count": null,
   "metadata": {
    "collapsed": true
   },
   "outputs": [],
   "source": []
  }
 ],
 "metadata": {
  "kernelspec": {
   "display_name": "Python 3",
   "language": "python",
   "name": "python3"
  },
  "language_info": {
   "codemirror_mode": {
    "name": "ipython",
    "version": 3
   },
   "file_extension": ".py",
   "mimetype": "text/x-python",
   "name": "python",
   "nbconvert_exporter": "python",
   "pygments_lexer": "ipython3",
   "version": "3.6.3"
  }
 },
 "nbformat": 4,
 "nbformat_minor": 2
}
